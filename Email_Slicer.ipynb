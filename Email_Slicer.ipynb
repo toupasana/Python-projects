{
  "nbformat": 4,
  "nbformat_minor": 0,
  "metadata": {
    "colab": {
      "provenance": [],
      "authorship_tag": "ABX9TyNWfslnW0uDgAEfAnptGAgm",
      "include_colab_link": true
    },
    "kernelspec": {
      "name": "python3",
      "display_name": "Python 3"
    },
    "language_info": {
      "name": "python"
    }
  },
  "cells": [
    {
      "cell_type": "markdown",
      "metadata": {
        "id": "view-in-github",
        "colab_type": "text"
      },
      "source": [
        "<a href=\"https://colab.research.google.com/github/toupasana/Python-projects/blob/main/Email_Slicer.ipynb\" target=\"_parent\"><img src=\"https://colab.research.google.com/assets/colab-badge.svg\" alt=\"Open In Colab\"/></a>"
      ]
    },
    {
      "cell_type": "markdown",
      "source": [
        "# </b> Email_Slicer"
      ],
      "metadata": {
        "id": "yUgST-s2FK41"
      }
    },
    {
      "cell_type": "markdown",
      "source": [
        "Email Slicer is nothing but just a tool which will take an email id as an input and will perform slicing operations on it to return the username and the domain of the email id"
      ],
      "metadata": {
        "id": "f94TG-PGFkM9"
      }
    },
    {
      "cell_type": "code",
      "source": [
        "#enter your email\n",
        "email = input(\"Enter Your Email: \")\n"
      ],
      "metadata": {
        "colab": {
          "base_uri": "https://localhost:8080/"
        },
        "id": "6XHsxQAaArJg",
        "outputId": "034c2c65-5b84-4755-abe7-dec71e4ae696"
      },
      "execution_count": 10,
      "outputs": [
        {
          "name": "stdout",
          "output_type": "stream",
          "text": [
            "Enter Your Email: toupasana@gmail.com\n"
          ]
        }
      ]
    },
    {
      "cell_type": "markdown",
      "source": [
        "we are making use of input() function to get the input from the user in the form of string. We will store this input in the email variable."
      ],
      "metadata": {
        "id": "XvNF_lCKDI8-"
      }
    },
    {
      "cell_type": "code",
      "source": [
        "#strip method remove the whitespace from the beginning and at the end of the string\n",
        "email.strip()"
      ],
      "metadata": {
        "colab": {
          "base_uri": "https://localhost:8080/",
          "height": 35
        },
        "id": "78dUYOMHAxUf",
        "outputId": "a9b498b0-9fcd-43e2-b51b-fba8cd6ee3de"
      },
      "execution_count": 11,
      "outputs": [
        {
          "output_type": "execute_result",
          "data": {
            "text/plain": [
              "'toupasana@gmail.com'"
            ],
            "application/vnd.google.colaboratory.intrinsic+json": {
              "type": "string"
            }
          },
          "metadata": {},
          "execution_count": 11
        }
      ]
    },
    {
      "cell_type": "markdown",
      "source": [
        "We notice that we are making use of a strip() function. strip() function will remove any additional & unwanted spacing on both sides of strings. So that we can make sure that we have only the email in the input and not any unwanted spaces."
      ],
      "metadata": {
        "id": "JSwjMNTaC98a"
      }
    },
    {
      "cell_type": "code",
      "source": [
        "#Slicing the username useing slicing operator : and index() function\n",
        "username=email[:email.index('@')]\n",
        "#Slicing the domain use of slicing operator : and index() function\n",
        "domain=email[email.index('@')+1:]"
      ],
      "metadata": {
        "id": "gag_np05BIac"
      },
      "execution_count": 12,
      "outputs": []
    },
    {
      "cell_type": "markdown",
      "source": [
        "Here we are slicing the user input to obtain the username and domain and ignore the rest."
      ],
      "metadata": {
        "id": "zRWQOEMwDVXs"
      }
    },
    {
      "cell_type": "markdown",
      "source": [
        "Suppose the input is toupasana@gmail.com, so when we write email[:email.index('@')]i, our index() function will interpret it as email[:9] as our @ is located at index 9. Now email[:9] knows that @ is located at index 9, so now it will keep the part before index 9 and discard the rest."
      ],
      "metadata": {
        "id": "1wZfJt-fEMWe"
      }
    },
    {
      "cell_type": "code",
      "source": [
        "#prining the username and Domain giver by user.\n",
        "print(f\"Username is {username} & Domain is {domain}\")"
      ],
      "metadata": {
        "colab": {
          "base_uri": "https://localhost:8080/"
        },
        "id": "JOeNqfU6Bs4g",
        "outputId": "eae46a41-d1f4-4854-d529-2caf61047adc"
      },
      "execution_count": 13,
      "outputs": [
        {
          "output_type": "stream",
          "name": "stdout",
          "text": [
            "Username is toupasana & Domain is gmail.com\n"
          ]
        }
      ]
    }
  ]
}